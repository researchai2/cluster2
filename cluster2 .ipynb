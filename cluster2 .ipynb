{
  "cells": [
    {
      "cell_type": "code",
      "execution_count": null,
      "metadata": {
        "colab": {
          "base_uri": "https://localhost:8080/"
        },
        "id": "FIKMXEpJQDDQ",
        "outputId": "81c61c5b-6424-426f-8360-bec57b2cd4b5"
      },
      "outputs": [
        {
          "name": "stdout",
          "output_type": "stream",
          "text": [
            "Mounted at /content/drive\n"
          ]
        }
      ],
      "source": [
        "from google.colab import drive\n",
        "drive.mount('/content/drive')"
      ]
    },
    {
      "cell_type": "code",
      "execution_count": null,
      "metadata": {
        "colab": {
          "background_save": true,
          "base_uri": "https://localhost:8080/"
        },
        "id": "Nirj4WCpVAKi",
        "outputId": "5a96f745-7e6c-4ee5-9d9d-50e2795e38d2"
      },
      "outputs": [
        {
          "name": "stdout",
          "output_type": "stream",
          "text": [
            "Requirement already satisfied: umap-learn in /usr/local/lib/python3.10/dist-packages (0.5.6)\n",
            "Requirement already satisfied: numpy>=1.17 in /usr/local/lib/python3.10/dist-packages (from umap-learn) (1.26.4)\n",
            "Requirement already satisfied: scipy>=1.3.1 in /usr/local/lib/python3.10/dist-packages (from umap-learn) (1.13.1)\n",
            "Requirement already satisfied: scikit-learn>=0.22 in /usr/local/lib/python3.10/dist-packages (from umap-learn) (1.5.2)\n",
            "Requirement already satisfied: numba>=0.51.2 in /usr/local/lib/python3.10/dist-packages (from umap-learn) (0.60.0)\n",
            "Requirement already satisfied: pynndescent>=0.5 in /usr/local/lib/python3.10/dist-packages (from umap-learn) (0.5.13)\n",
            "Requirement already satisfied: tqdm in /usr/local/lib/python3.10/dist-packages (from umap-learn) (4.66.5)\n",
            "Requirement already satisfied: llvmlite<0.44,>=0.43.0dev0 in /usr/local/lib/python3.10/dist-packages (from numba>=0.51.2->umap-learn) (0.43.0)\n",
            "Requirement already satisfied: joblib>=0.11 in /usr/local/lib/python3.10/dist-packages (from pynndescent>=0.5->umap-learn) (1.4.2)\n",
            "Requirement already satisfied: threadpoolctl>=3.1.0 in /usr/local/lib/python3.10/dist-packages (from scikit-learn>=0.22->umap-learn) (3.5.0)\n"
          ]
        },
        {
          "ename": "OSError",
          "evalue": "[Errno 5] Input/output error: '/content/drive/MyDrive/geral3'",
          "output_type": "error",
          "traceback": [
            "\u001b[0;31m---------------------------------------------------------------------------\u001b[0m",
            "\u001b[0;31mOSError\u001b[0m                                   Traceback (most recent call last)",
            "\u001b[0;32m<ipython-input-4-426ec283020e>\u001b[0m in \u001b[0;36m<cell line: 22>\u001b[0;34m()\u001b[0m\n\u001b[1;32m     20\u001b[0m \u001b[0;34m\u001b[0m\u001b[0m\n\u001b[1;32m     21\u001b[0m \u001b[0;31m# Lista todos os arquivos de imagem no diretório\u001b[0m\u001b[0;34m\u001b[0m\u001b[0;34m\u001b[0m\u001b[0m\n\u001b[0;32m---> 22\u001b[0;31m \u001b[0mimage_filenames\u001b[0m \u001b[0;34m=\u001b[0m \u001b[0mos\u001b[0m\u001b[0;34m.\u001b[0m\u001b[0mlistdir\u001b[0m\u001b[0;34m(\u001b[0m\u001b[0mimage_directory\u001b[0m\u001b[0;34m)\u001b[0m\u001b[0;34m\u001b[0m\u001b[0;34m\u001b[0m\u001b[0m\n\u001b[0m\u001b[1;32m     23\u001b[0m \u001b[0mimage_filenames\u001b[0m \u001b[0;34m=\u001b[0m \u001b[0;34m[\u001b[0m\u001b[0mfilename\u001b[0m \u001b[0;32mfor\u001b[0m \u001b[0mfilename\u001b[0m \u001b[0;32min\u001b[0m \u001b[0mimage_filenames\u001b[0m \u001b[0;32mif\u001b[0m \u001b[0mfilename\u001b[0m\u001b[0;34m.\u001b[0m\u001b[0mendswith\u001b[0m\u001b[0;34m(\u001b[0m\u001b[0;34m(\u001b[0m\u001b[0;34m'.jpg'\u001b[0m\u001b[0;34m,\u001b[0m \u001b[0;34m'.jpeg'\u001b[0m\u001b[0;34m,\u001b[0m \u001b[0;34m'.png'\u001b[0m\u001b[0;34m)\u001b[0m\u001b[0;34m)\u001b[0m\u001b[0;34m]\u001b[0m\u001b[0;34m\u001b[0m\u001b[0;34m\u001b[0m\u001b[0m\n\u001b[1;32m     24\u001b[0m \u001b[0;34m\u001b[0m\u001b[0m\n",
            "\u001b[0;31mOSError\u001b[0m: [Errno 5] Input/output error: '/content/drive/MyDrive/geral3'"
          ]
        }
      ],
      "source": [
        "import numpy as np\n",
        "import os\n",
        "import random\n",
        "from PIL import Image\n",
        "import tensorflow as tf\n",
        "from tensorflow.keras.models import Model, Sequential\n",
        "from tensorflow.keras.layers import Conv2D, MaxPooling2D, UpSampling2D\n",
        "from tensorflow.keras.optimizers import Adam\n",
        "from tensorflow.keras.preprocessing.image import load_img, img_to_array\n",
        "#from sklearn.decomposition import PCA\n",
        "from tqdm import tqdm\n",
        "from concurrent.futures import ThreadPoolExecutor\n",
        "!pip install umap-learn # Install umap-learn package\n",
        "from umap import UMAP\n",
        "from sklearn.mixture import GaussianMixture\n",
        "import matplotlib.pyplot as plt\n",
        "\n",
        "# Especifica o diretório onde suas imagens estão localizadas\n",
        "image_directory = '/content/drive/MyDrive/geral3'\n",
        "\n",
        "# Lista todos os arquivos de imagem no diretório\n",
        "image_filenames = os.listdir(image_directory)\n",
        "image_filenames = [filename for filename in image_filenames if filename.endswith(('.jpg', '.jpeg', '.png'))]\n",
        "\n",
        "# Exibe o número total de imagens no diretório\n",
        "print(f\"Total de imagens no diretório: {len(image_filenames)}\")"
      ]
    },
    {
      "cell_type": "code",
      "execution_count": null,
      "metadata": {
        "colab": {
          "base_uri": "https://localhost:8080/"
        },
        "id": "DgXgAiESnLxL",
        "outputId": "bf8a066b-ea32-419a-c447-d7e08ba411ec"
      },
      "outputs": [
        {
          "name": "stdout",
          "output_type": "stream",
          "text": [
            "Traceback (most recent call last):\n",
            "  File \"/usr/local/lib/python3.10/dist-packages/pip/_internal/cli/base_command.py\", line 179, in exc_logging_wrapper\n",
            "    status = run_func(*args)\n",
            "  File \"/usr/local/lib/python3.10/dist-packages/pip/_internal/cli/req_command.py\", line 67, in wrapper\n",
            "    return func(self, options, args)\n",
            "  File \"/usr/local/lib/python3.10/dist-packages/pip/_internal/commands/install.py\", line 324, in run\n",
            "    session = self.get_default_session(options)\n",
            "  File \"/usr/local/lib/python3.10/dist-packages/pip/_internal/cli/index_command.py\", line 71, in get_default_session\n",
            "    self._session = self.enter_context(self._build_session(options))\n",
            "  File \"/usr/local/lib/python3.10/dist-packages/pip/_internal/cli/index_command.py\", line 100, in _build_session\n",
            "    session = PipSession(\n",
            "  File \"/usr/local/lib/python3.10/dist-packages/pip/_internal/network/session.py\", line 344, in __init__\n",
            "    self.headers[\"User-Agent\"] = user_agent()\n",
            "  File \"/usr/local/lib/python3.10/dist-packages/pip/_internal/network/session.py\", line 177, in user_agent\n",
            "    setuptools_dist = get_default_environment().get_distribution(\"setuptools\")\n",
            "  File \"/usr/local/lib/python3.10/dist-packages/pip/_internal/metadata/__init__.py\", line 76, in get_default_environment\n",
            "    return select_backend().Environment.default()\n",
            "  File \"/usr/local/lib/python3.10/dist-packages/pip/_internal/metadata/__init__.py\", line 64, in select_backend\n",
            "    from . import pkg_resources\n",
            "  File \"/usr/local/lib/python3.10/dist-packages/pip/_internal/metadata/pkg_resources.py\", line 16, in <module>\n",
            "    from pip._vendor import pkg_resources\n",
            "  File \"/usr/local/lib/python3.10/dist-packages/pip/_vendor/pkg_resources/__init__.py\", line 3292, in <module>\n",
            "    def _initialize_master_working_set():\n",
            "  File \"/usr/local/lib/python3.10/dist-packages/pip/_vendor/pkg_resources/__init__.py\", line 3266, in _call_aside\n",
            "    f(*args, **kwargs)\n",
            "  File \"/usr/local/lib/python3.10/dist-packages/pip/_vendor/pkg_resources/__init__.py\", line 3304, in _initialize_master_working_set\n",
            "    working_set = WorkingSet._build_master()\n",
            "  File \"/usr/local/lib/python3.10/dist-packages/pip/_vendor/pkg_resources/__init__.py\", line 591, in _build_master\n",
            "    ws = cls()\n",
            "  File \"/usr/local/lib/python3.10/dist-packages/pip/_vendor/pkg_resources/__init__.py\", line 584, in __init__\n",
            "    self.add_entry(entry)\n",
            "  File \"/usr/local/lib/python3.10/dist-packages/pip/_vendor/pkg_resources/__init__.py\", line 640, in add_entry\n",
            "    for dist in find_distributions(entry, True):\n",
            "  File \"/usr/local/lib/python3.10/dist-packages/pip/_vendor/pkg_resources/__init__.py\", line 2102, in find_on_path\n",
            "    yield from factory(fullpath)\n",
            "  File \"/usr/local/lib/python3.10/dist-packages/pip/_vendor/pkg_resources/__init__.py\", line 2159, in distributions_from_metadata\n",
            "    if len(os.listdir(path)) == 0:\n",
            "KeyboardInterrupt\n",
            "\n",
            "During handling of the above exception, another exception occurred:\n",
            "\n",
            "Traceback (most recent call last):\n",
            "  File \"/usr/local/bin/pip3\", line 8, in <module>\n",
            "    sys.exit(main())\n",
            "  File \"/usr/local/lib/python3.10/dist-packages/pip/_internal/cli/main.py\", line 80, in main\n",
            "    return command.main(cmd_args)\n",
            "  File \"/usr/local/lib/python3.10/dist-packages/pip/_internal/cli/base_command.py\", line 100, in main\n",
            "    return self._main(args)\n",
            "  File \"/usr/local/lib/python3.10/dist-packages/pip/_internal/cli/base_command.py\", line 232, in _main\n",
            "    return run(options, args)\n",
            "  File \"/usr/local/lib/python3.10/dist-packages/pip/_internal/cli/base_command.py\", line 215, in exc_logging_wrapper\n",
            "    logger.critical(\"Operation cancelled by user\")\n",
            "  File \"/usr/lib/python3.10/logging/__init__.py\", line 1524, in critical\n",
            "    self._log(CRITICAL, msg, args, **kwargs)\n",
            "  File \"/usr/lib/python3.10/logging/__init__.py\", line 1624, in _log\n",
            "    self.handle(record)\n",
            "  File \"/usr/lib/python3.10/logging/__init__.py\", line 1634, in handle\n",
            "    self.callHandlers(record)\n",
            "  File \"/usr/lib/python3.10/logging/__init__.py\", line 1696, in callHandlers\n",
            "    hdlr.handle(record)\n",
            "  File \"/usr/lib/python3.10/logging/__init__.py\", line 968, in handle\n",
            "    self.emit(record)\n",
            "  File \"/usr/local/lib/python3.10/dist-packages/pip/_internal/utils/logging.py\", line 177, in emit\n",
            "    self.console.print(renderable, overflow=\"ignore\", crop=False, style=style)\n",
            "  File \"/usr/local/lib/python3.10/dist-packages/pip/_vendor/rich/console.py\", line 1685, in print\n",
            "    render_options = self.options.update(\n",
            "  File \"/usr/local/lib/python3.10/dist-packages/pip/_vendor/rich/console.py\", line 988, in options\n",
            "    encoding=self.encoding,\n",
            "  File \"/usr/local/lib/python3.10/dist-packages/pip/_vendor/rich/console.py\", line 929, in encoding\n",
            "    return (getattr(self.file, \"encoding\", \"utf-8\") or \"utf-8\").lower()\n",
            "KeyboardInterrupt\n",
            "^C\n"
          ]
        }
      ],
      "source": [
        "# Adiciona as barras de processo\n",
        "pip install tqdm\n"
      ]
    },
    {
      "cell_type": "code",
      "execution_count": null,
      "metadata": {
        "id": "gsS95B0SVaze"
      },
      "outputs": [],
      "source": []
    },
    {
      "cell_type": "code",
      "execution_count": null,
      "metadata": {
        "id": "SDc9p4oiWDtH"
      },
      "outputs": [],
      "source": [
        "# Função para carregar e processar uma única imagem\n",
        "def load_and_process_image(path):\n",
        "    img = load_img(path)\n",
        "    img = img_to_array(img)\n",
        "    img /= 255.0\n",
        "    return img\n",
        "\n",
        "# Ordena os nomes dos arquivos pela sua numeração\n",
        "image_filenames = sorted(image_filenames, key=lambda x: int(''.join(filter(str.isdigit, x))))\n",
        "\n",
        "# Pergunta ao usuário o número de imagens a serem processadas\n",
        "num_images_to_load = 36000\n",
        "\n",
        "# Usa o número especificado de imagens\n",
        "image_filenames = image_filenames[:num_images_to_load]\n",
        "image_paths = [os.path.join(image_directory, filename) for filename in image_filenames]\n",
        "\n",
        "# Carrega as imagens utilizando múltiplas threads\n",
        "with ThreadPoolExecutor(max_workers=80) as executor:\n",
        "    images = list(tqdm(executor.map(load_and_process_image, image_paths), total=len(image_paths)))\n",
        "\n",
        "# Converte a lista de imagens em um array numpy\n",
        "images = np.array(images)\n"
      ]
    },
    {
      "cell_type": "code",
      "execution_count": null,
      "metadata": {
        "colab": {
          "base_uri": "https://localhost:8080/",
          "height": 211
        },
        "id": "lASY1oaRWFQd",
        "outputId": "5a2f6165-5768-4ab8-91f5-80a214a712ad"
      },
      "outputs": [
        {
          "ename": "NameError",
          "evalue": "name 'np' is not defined",
          "output_type": "error",
          "traceback": [
            "\u001b[0;31m---------------------------------------------------------------------------\u001b[0m",
            "\u001b[0;31mNameError\u001b[0m                                 Traceback (most recent call last)",
            "\u001b[0;32m<ipython-input-3-01106eabb55b>\u001b[0m in \u001b[0;36m<cell line: 3>\u001b[0;34m()\u001b[0m\n\u001b[1;32m      1\u001b[0m \u001b[0mn\u001b[0m\u001b[0;34m=\u001b[0m\u001b[0;36m12\u001b[0m\u001b[0;34m\u001b[0m\u001b[0;34m\u001b[0m\u001b[0m\n\u001b[1;32m      2\u001b[0m \u001b[0;34m\u001b[0m\u001b[0m\n\u001b[0;32m----> 3\u001b[0;31m \u001b[0mnp\u001b[0m\u001b[0;34m.\u001b[0m\u001b[0mrandom\u001b[0m\u001b[0;34m.\u001b[0m\u001b[0mseed\u001b[0m\u001b[0;34m(\u001b[0m\u001b[0mn\u001b[0m\u001b[0;34m)\u001b[0m\u001b[0;34m\u001b[0m\u001b[0;34m\u001b[0m\u001b[0m\n\u001b[0m\u001b[1;32m      4\u001b[0m \u001b[0mtf\u001b[0m\u001b[0;34m.\u001b[0m\u001b[0mrandom\u001b[0m\u001b[0;34m.\u001b[0m\u001b[0mset_seed\u001b[0m\u001b[0;34m(\u001b[0m\u001b[0mn\u001b[0m\u001b[0;34m)\u001b[0m\u001b[0;34m\u001b[0m\u001b[0;34m\u001b[0m\u001b[0m\n\u001b[1;32m      5\u001b[0m \u001b[0mrandom\u001b[0m\u001b[0;34m.\u001b[0m\u001b[0mseed\u001b[0m\u001b[0;34m(\u001b[0m\u001b[0mn\u001b[0m\u001b[0;34m)\u001b[0m\u001b[0;34m\u001b[0m\u001b[0;34m\u001b[0m\u001b[0m\n",
            "\u001b[0;31mNameError\u001b[0m: name 'np' is not defined"
          ]
        }
      ],
      "source": [
        "#Define uma semente para resultados serem reproduzíveis\n",
        "n=12\n",
        "\n",
        "np.random.seed(n)\n",
        "tf.random.set_seed(n)\n",
        "random.seed(n)"
      ]
    },
    {
      "cell_type": "code",
      "execution_count": null,
      "metadata": {
        "id": "VLb-j-YpW-0A"
      },
      "outputs": [],
      "source": [
        "\n",
        "# Função customizada de perda SSIM\n",
        "def ssim_loss(y_true, y_pred):\n",
        "    ssim_per_image = tf.image.ssim(y_true, y_pred, max_val=1.0)\n",
        "    return 1 - tf.reduce_mean(ssim_per_image)\n",
        "\n",
        "# Define a arquitetura do autoencoder\n",
        "input_shape = (54, 54, 3)  # Ajuste conforme necessário\n",
        "\n",
        "autoencoder = Sequential([\n",
        "    # Codificador\n",
        "    Conv2D(64, (3, 3), activation='relu', padding='same', input_shape=input_shape),\n",
        "    Conv2D(64, (3, 3), activation='relu', padding='same'),\n",
        "    Conv2D(64, (5, 5), activation='relu', padding='same'),\n",
        "    MaxPooling2D(2, 2, padding='same'),\n",
        "    Conv2D(32, (3, 3), activation='relu', padding='same'),\n",
        "\n",
        "    # Decodificador\n",
        "    Conv2D(32, (3, 3), activation='relu', padding='same'),\n",
        "    UpSampling2D((2, 2)),\n",
        "    Conv2D(64, (5, 5), activation='relu', padding='same'),\n",
        "    Conv2D(64, (3, 3), activation='relu', padding='same'),\n",
        "    Conv2D(64, (3, 3), activation='relu', padding='same'),\n",
        "    Conv2D(3, (3, 3), activation='linear', padding='same')\n",
        "])\n",
        "\n",
        "# Compila o autoencoder com perda SSIM\n",
        "autoencoder.compile(optimizer=Adam(learning_rate=0.0002), loss=ssim_loss)\n",
        "\n",
        "# Treina o autoencoder\n",
        "autoencoder.fit(images, images, epochs=40, batch_size=40)\n",
        "\n",
        "# Define o codificador (parte do autoencoder)\n",
        "encoder = Model(inputs=autoencoder.input, outputs=autoencoder.layers[-1].output)\n",
        "\n",
        "# Obtém os vetores de características\n",
        "feature_vectors = encoder.predict(images)\n",
        "\n",
        "# Inicializa listas para armazenar os vetores de características somados\n",
        "summed_feature_vectors_first_4 = []\n",
        "summed_feature_vectors_last_2 = []\n",
        "\n",
        "# Itera pelos vetores de características e os soma conforme a especificação\n",
        "for i in range(0, len(feature_vectors), 6):\n",
        "    sum_first_4 = np.mean(feature_vectors[i:i+4], axis=0)\n",
        "    summed_feature_vectors_first_4.append(sum_first_4)\n",
        "\n",
        "    sum_last_2 = np.mean(feature_vectors[i+4:i+6], axis=0)\n",
        "    summed_feature_vectors_last_2.append(sum_last_2)\n",
        "\n",
        "# Converte as listas para arrays numpy\n",
        "summed_feature_vectors_first_4 = np.array(summed_feature_vectors_first_4)\n",
        "summed_feature_vectors_last_2 = np.array(summed_feature_vectors_last_2)\n",
        "\n",
        "# Combina os dois arrays horizontalmente\n",
        "combined_summed_features = np.hstack((summed_feature_vectors_first_4, summed_feature_vectors_last_2))"
      ]
    },
    {
      "cell_type": "code",
      "execution_count": null,
      "metadata": {
        "colab": {
          "base_uri": "https://localhost:8080/",
          "height": 211
        },
        "id": "T9GL-PppWi2G",
        "outputId": "45b729d1-ec52-4d58-ff0c-1b3d418c32ff"
      },
      "outputs": [
        {
          "ename": "NameError",
          "evalue": "name 'combined_summed_features' is not defined",
          "output_type": "error",
          "traceback": [
            "\u001b[0;31m---------------------------------------------------------------------------\u001b[0m",
            "\u001b[0;31mNameError\u001b[0m                                 Traceback (most recent call last)",
            "\u001b[0;32m<ipython-input-4-a56d87343216>\u001b[0m in \u001b[0;36m<cell line: 2>\u001b[0;34m()\u001b[0m\n\u001b[1;32m      1\u001b[0m \u001b[0;31m# UMAP\u001b[0m\u001b[0;34m\u001b[0m\u001b[0;34m\u001b[0m\u001b[0m\n\u001b[0;32m----> 2\u001b[0;31m \u001b[0mflattened_features\u001b[0m \u001b[0;34m=\u001b[0m \u001b[0mcombined_summed_features\u001b[0m\u001b[0;34m.\u001b[0m\u001b[0mreshape\u001b[0m\u001b[0;34m(\u001b[0m\u001b[0mlen\u001b[0m\u001b[0;34m(\u001b[0m\u001b[0mcombined_summed_features\u001b[0m\u001b[0;34m)\u001b[0m\u001b[0;34m,\u001b[0m \u001b[0;34m-\u001b[0m\u001b[0;36m1\u001b[0m\u001b[0;34m)\u001b[0m\u001b[0;34m\u001b[0m\u001b[0;34m\u001b[0m\u001b[0m\n\u001b[0m\u001b[1;32m      3\u001b[0m \u001b[0;34m\u001b[0m\u001b[0m\n\u001b[1;32m      4\u001b[0m \u001b[0;31m# Aplica UMAP com o número de componentes especificado\u001b[0m\u001b[0;34m\u001b[0m\u001b[0;34m\u001b[0m\u001b[0m\n\u001b[1;32m      5\u001b[0m \u001b[0mn_components\u001b[0m \u001b[0;34m=\u001b[0m \u001b[0;36m2\u001b[0m\u001b[0;34m\u001b[0m\u001b[0;34m\u001b[0m\u001b[0m\n",
            "\u001b[0;31mNameError\u001b[0m: name 'combined_summed_features' is not defined"
          ]
        }
      ],
      "source": [
        "# UMAP\n",
        "!pip install umap-learn\n",
        "flattened_features = combined_summed_features.reshape(len(combined_summed_features), -1)\n",
        "\n",
        "# Aplica UMAP com o número de componentes especificado\n",
        "n_components = 2\n",
        "umap = UMAP(n_components=n_components, n_neighbors=5, min_dist=0.8, metric='euclidean')\n",
        "umap_transformed_features = umap.fit_transform(flattened_features)\n",
        "\n",
        "# Vizualização do UMAP\n",
        "plt.figure(figsize=(10, 8))\n",
        "plt.scatter(umap_transformed_features[:, 0], umap_transformed_features[:, 1], s=5, cmap='Spectral')\n",
        "plt.title(\"Visualização UMAP das Características Reduzidas\")\n",
        "plt.show()\n",
        "\n",
        "# Definindo o número ideal de clusters com BIC\n",
        "n_components_range = range(1, 25)  # Exemplo de intervalo\n",
        "bic_scores = []\n",
        "for n_components in n_components_range:\n",
        "    gmm = GaussianMixture(n_components=n_components, covariance_type='full')\n",
        "    gmm.fit(umap_transformed_features)\n",
        "    bic_scores.append(gmm.bic(umap_transformed_features))\n",
        "\n",
        "# Número ótimo de clusters baseado no BIC\n",
        "optimal_n_clusters = n_components_range[np.argmin(bic_scores)]\n",
        "print(f\"Número ótimo de clusters de acordo com o BIC: {optimal_n_clusters}\")\n",
        "\n",
        "# Plotando os scores do BIC\n",
        "plt.figure(figsize=(20, 12))\n",
        "plt.plot(n_components_range, bic_scores, marker='o')\n",
        "plt.title('Pontuação BIC por Número de Clusters', fontsize=20)\n",
        "plt.xlabel('Número de Clusters', fontsize=18)\n",
        "plt.ylabel('Pontuação BIC', fontsize=18)\n",
        "plt.xticks(n_components_range, fontsize=14)\n",
        "plt.yticks(fontsize=14)\n",
        "plt.show()"
      ]
    },
    {
      "cell_type": "code",
      "execution_count": null,
      "metadata": {
        "colab": {
          "base_uri": "https://localhost:8080/",
          "height": 193
        },
        "id": "3k4lASOOXuE-",
        "outputId": "8527c1a5-3ca7-486e-a792-a43247bd9516"
      },
      "outputs": [
        {
          "ename": "NameError",
          "evalue": "name 'GaussianMixture' is not defined",
          "output_type": "error",
          "traceback": [
            "\u001b[0;31m---------------------------------------------------------------------------\u001b[0m",
            "\u001b[0;31mNameError\u001b[0m                                 Traceback (most recent call last)",
            "\u001b[0;32m<ipython-input-5-ff012757e7f2>\u001b[0m in \u001b[0;36m<cell line: 2>\u001b[0;34m()\u001b[0m\n\u001b[1;32m      1\u001b[0m \u001b[0;31m# Ajuste do GMM com o número ótimo de clusters\u001b[0m\u001b[0;34m\u001b[0m\u001b[0;34m\u001b[0m\u001b[0m\n\u001b[0;32m----> 2\u001b[0;31m \u001b[0mgmm\u001b[0m \u001b[0;34m=\u001b[0m \u001b[0mGaussianMixture\u001b[0m\u001b[0;34m(\u001b[0m\u001b[0mn_components\u001b[0m\u001b[0;34m=\u001b[0m\u001b[0moptimal_n_clusters\u001b[0m\u001b[0;34m,\u001b[0m \u001b[0mn_init\u001b[0m\u001b[0;34m=\u001b[0m\u001b[0;36m1\u001b[0m\u001b[0;34m)\u001b[0m\u001b[0;34m\u001b[0m\u001b[0;34m\u001b[0m\u001b[0m\n\u001b[0m\u001b[1;32m      3\u001b[0m \u001b[0mgmm\u001b[0m\u001b[0;34m.\u001b[0m\u001b[0mfit\u001b[0m\u001b[0;34m(\u001b[0m\u001b[0mumap_transformed_features\u001b[0m\u001b[0;34m)\u001b[0m\u001b[0;34m\u001b[0m\u001b[0;34m\u001b[0m\u001b[0m\n\u001b[1;32m      4\u001b[0m \u001b[0mcluster_labels\u001b[0m \u001b[0;34m=\u001b[0m \u001b[0mgmm\u001b[0m\u001b[0;34m.\u001b[0m\u001b[0mpredict\u001b[0m\u001b[0;34m(\u001b[0m\u001b[0mumap_transformed_features\u001b[0m\u001b[0;34m)\u001b[0m\u001b[0;34m\u001b[0m\u001b[0;34m\u001b[0m\u001b[0m\n",
            "\u001b[0;31mNameError\u001b[0m: name 'GaussianMixture' is not defined"
          ]
        }
      ],
      "source": [
        "# Ajuste do GMM com o número ótimo de clusters\n",
        "gmm = GaussianMixture(n_components=optimal_n_clusters, n_init=1)\n",
        "gmm.fit(umap_transformed_features)\n",
        "cluster_labels = gmm.predict(umap_transformed_features)\n",
        "\n",
        "# Mostrar número de ítens por grupo\n",
        "cluster_counts = Counter(cluster_labels)\n",
        "print(\"Number of items per cluster:\")\n",
        "for cluster_id in range(n_clusters):\n",
        "    print(f\"Cluster {cluster_id}: {cluster_counts[cluster_id]} items\")\n"
      ]
    },
    {
      "cell_type": "code",
      "execution_count": null,
      "metadata": {
        "id": "m-X_ieb1YMKj"
      },
      "outputs": [],
      "source": [
        "# Exportação dos resultados UMAP e dos clusters em CSV\n",
        "df = pd.DataFrame(umap_transformed_features, columns=['UMAP_1', 'UMAP_2'])\n",
        "df['Cluster_ID'] = cluster_labels\n",
        "save_path = '/content/drive/MyDrive/geral3/clusters9/location9.csv'\n",
        "df.to_csv(save_path, index=False)\n",
        "print(f'Arquivo salvo em: {save_path}')\n",
        "\n"
      ]
    },
    {
      "cell_type": "code",
      "execution_count": null,
      "metadata": {
        "id": "KFXfkDy9Yt16"
      },
      "outputs": [],
      "source": [
        "# Mostra mapa 2d UMAP\n",
        "color_palette = ['red', 'blue', 'green', 'purple', 'orange', 'cyan',\n",
        "                 'pink', 'lightgreen', 'lightblue', 'yellow', 'grey', 'brown']\n",
        "\n",
        "# If you have more clusters than colors, consider generating a larger palette or repeating the palette.\n",
        "\n",
        "# Map cluster labels to colors from the palette\n",
        "colors = [color_palette[label] for label in cluster_labels]\n",
        "\n",
        "plt.figure(figsize=(10, 7))\n",
        "scatter = plt.scatter(umap_transformed_features[:, 0], umap_transformed_features[:, 1], c=colors, marker='.')\n",
        "plt.title('Gaussian Mixture Clustering', fontsize=14)\n",
        "plt.xlabel('UMAP 1', fontsize=12)\n",
        "plt.ylabel('UMAP 2', fontsize=12)\n",
        "\n",
        "# Create a custom legend placed outside the plot\n",
        "from matplotlib.patches import Patch\n",
        "legend_patches = [Patch(color=color_palette[i], label=f'Cluster {i}') for i in range(n_clusters)]\n",
        "legend1 = plt.legend(handles=legend_patches, title=\"Cluster ID\", fontsize=12, loc='upper left', bbox_to_anchor=(1, 1))\n",
        "legend1.get_title().set_fontsize('14')\n",
        "\n",
        "# Adjust layout to make room for the legend outside of the plot\n",
        "plt.tight_layout()\n",
        "\n",
        "plt.show()\n"
      ]
    },
    {
      "cell_type": "code",
      "execution_count": null,
      "metadata": {
        "id": "VOsC2aTQYh_A"
      },
      "outputs": [],
      "source": [
        "# Vizualização de exemplos de clusters\n",
        "new_image_directory = '/content/drive/MyDrive/geralilus'\n",
        "new_image_filenames = os.listdir(new_image_directory)\n",
        "new_image_filenames = [filename for filename in new_image_filenames if filename.endswith(('.jpg', '.jpeg', '.png'))]\n",
        "new_image_filenames = sorted(new_image_filenames, key=lambda x: int(''.join(filter(str.isdigit, x))))\n",
        "\n",
        "clustered_groups = {}\n",
        "for i, label in enumerate(cluster_labels):\n",
        "    if label not in clustered_groups:\n",
        "        clustered_groups[label] = []\n",
        "    clustered_groups[label].append(i)\n",
        "\n",
        "for cluster_id in sorted(clustered_groups.keys()):\n",
        "    print(f'Cluster {cluster_id}')\n",
        "    group_indices = clustered_groups[cluster_id]\n",
        "    plt.figure(figsize=(10, 8))\n",
        "    selected_indices = random.sample(group_indices, min(20, len(group_indices)))\n",
        "\n",
        "    for i, idx in enumerate(selected_indices):\n",
        "        if idx < len(new_image_filenames):\n",
        "            img_filename = new_image_filenames[idx]\n",
        "            img_full_path = os.path.join(new_image_directory, img_filename)\n",
        "            img = Image.open(img_full_path)\n",
        "            plt.subplot(4, 5, i + 1)\n",
        "            plt.imshow(img)\n",
        "            plt.axis('off')\n",
        "\n",
        "    plt.show()"
      ]
    }
  ],
  "metadata": {
    "accelerator": "GPU",
    "colab": {
      "gpuType": "A100",
      "machine_shape": "hm",
      "provenance": []
    },
    "kernelspec": {
      "display_name": "Python 3",
      "name": "python3"
    },
    "language_info": {
      "name": "python"
    }
  },
  "nbformat": 4,
  "nbformat_minor": 0
}